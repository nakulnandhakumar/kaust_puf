{
 "cells": [
  {
   "cell_type": "code",
   "execution_count": 6,
   "metadata": {},
   "outputs": [
    {
     "name": "stdout",
     "output_type": "stream",
     "text": [
      "Accuracy: 100.00%\n"
     ]
    }
   ],
   "source": [
    "import torch\n",
    "import torch.nn as nn\n",
    "from puf_classifier_v5 import CNN\n",
    "from gan_v1 import GAN_Generator\n",
    "\n",
    "# Load pretrained GAN generator model and puf_classifier model\n",
    "device = torch.device(\"cuda\" if torch.cuda.is_available() else \"cpu\")\n",
    "classifier = torch.load('saved_models/puf_classifier_v5.pth', map_location=device)\n",
    "gan_generator = torch.load('saved_models/gan_generator_v1.pth', map_location=device)\n",
    "\n",
    "# Set classifier and generator to evaluation mode\n",
    "classifier.eval()\n",
    "gan_generator.eval()\n",
    "\n",
    "# Generate 1000 samples from noise\n",
    "latent_dim=20\n",
    "z = torch.randn(1000, latent_dim).to(device)\n",
    "generated_samples = gan_generator(z).detach().cpu().numpy()\n",
    "\n",
    "# Predict the labels of the generated samples\n",
    "generated_samples_tensor = torch.tensor(generated_samples).float().to(device)\n",
    "with torch.no_grad():\n",
    "    predictions = classifier(generated_samples_tensor)\n",
    "predicted_labels = torch.argmax(predictions, dim=1).cpu().numpy()\n",
    "\n",
    "# Calculate the accuracy of the classifier on the generated samples\n",
    "accuracy = (predicted_labels == 0).sum() / len(predicted_labels) * 100\n",
    "print(f'Accuracy: {accuracy:.2f}%')"
   ]
  },
  {
   "cell_type": "code",
   "execution_count": null,
   "metadata": {},
   "outputs": [],
   "source": []
  }
 ],
 "metadata": {
  "kernelspec": {
   "display_name": "kaust_puf",
   "language": "python",
   "name": "python3"
  },
  "language_info": {
   "codemirror_mode": {
    "name": "ipython",
    "version": 3
   },
   "file_extension": ".py",
   "mimetype": "text/x-python",
   "name": "python",
   "nbconvert_exporter": "python",
   "pygments_lexer": "ipython3",
   "version": "3.11.7"
  }
 },
 "nbformat": 4,
 "nbformat_minor": 2
}
