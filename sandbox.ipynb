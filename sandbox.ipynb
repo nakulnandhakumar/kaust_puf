{
 "cells": [
  {
   "cell_type": "code",
   "execution_count": 2,
   "metadata": {},
   "outputs": [
    {
     "ename": "FileNotFoundError",
     "evalue": "[Errno 2] No such file or directory: '--f=/Users/nakulnandhakumar/Library/Jupyter/runtime/kernel-v2-552818O1PTdYRykhk.json.tex'",
     "output_type": "error",
     "traceback": [
      "\u001b[0;31m---------------------------------------------------------------------------\u001b[0m",
      "\u001b[0;31mFileNotFoundError\u001b[0m                         Traceback (most recent call last)",
      "Cell \u001b[0;32mIn[2], line 28\u001b[0m\n\u001b[1;32m     25\u001b[0m     to_generate(arch, namefile \u001b[38;5;241m+\u001b[39m \u001b[38;5;124m'\u001b[39m\u001b[38;5;124m.tex\u001b[39m\u001b[38;5;124m'\u001b[39m)\n\u001b[1;32m     27\u001b[0m \u001b[38;5;28;01mif\u001b[39;00m \u001b[38;5;18m__name__\u001b[39m \u001b[38;5;241m==\u001b[39m \u001b[38;5;124m'\u001b[39m\u001b[38;5;124m__main__\u001b[39m\u001b[38;5;124m'\u001b[39m:\n\u001b[0;32m---> 28\u001b[0m     main()\n",
      "Cell \u001b[0;32mIn[2], line 25\u001b[0m, in \u001b[0;36mmain\u001b[0;34m()\u001b[0m\n\u001b[1;32m     23\u001b[0m \u001b[38;5;28;01mdef\u001b[39;00m \u001b[38;5;21mmain\u001b[39m():\n\u001b[1;32m     24\u001b[0m     namefile \u001b[38;5;241m=\u001b[39m \u001b[38;5;28mstr\u001b[39m(sys\u001b[38;5;241m.\u001b[39margv[\u001b[38;5;241m1\u001b[39m])\n\u001b[0;32m---> 25\u001b[0m     to_generate(arch, namefile \u001b[38;5;241m+\u001b[39m \u001b[38;5;124m'\u001b[39m\u001b[38;5;124m.tex\u001b[39m\u001b[38;5;124m'\u001b[39m)\n",
      "File \u001b[0;32m~/Documents/KAUST Internship/kaust_puf/pycore/tikzeng.py:205\u001b[0m, in \u001b[0;36mto_generate\u001b[0;34m(arch, pathname)\u001b[0m\n\u001b[1;32m    204\u001b[0m \u001b[38;5;28;01mdef\u001b[39;00m \u001b[38;5;21mto_generate\u001b[39m( arch, pathname\u001b[38;5;241m=\u001b[39m\u001b[38;5;124m\"\u001b[39m\u001b[38;5;124mfile.tex\u001b[39m\u001b[38;5;124m\"\u001b[39m ):\n\u001b[0;32m--> 205\u001b[0m     \u001b[38;5;28;01mwith\u001b[39;00m \u001b[38;5;28mopen\u001b[39m(pathname, \u001b[38;5;124m\"\u001b[39m\u001b[38;5;124mw\u001b[39m\u001b[38;5;124m\"\u001b[39m) \u001b[38;5;28;01mas\u001b[39;00m f: \n\u001b[1;32m    206\u001b[0m         \u001b[38;5;28;01mfor\u001b[39;00m c \u001b[38;5;129;01min\u001b[39;00m arch:\n\u001b[1;32m    207\u001b[0m             \u001b[38;5;28mprint\u001b[39m(c)\n",
      "\u001b[0;31mFileNotFoundError\u001b[0m: [Errno 2] No such file or directory: '--f=/Users/nakulnandhakumar/Library/Jupyter/runtime/kernel-v2-552818O1PTdYRykhk.json.tex'"
     ]
    }
   ],
   "source": [
    "import matplotlib.pyplot as plt\n",
    "import matplotlib.patches as patches\n",
    "\n",
    "def draw_lenet(ax):\n",
    "    # Draw Input Layer\n",
    "    ax.add_patch(patches.Rectangle((0.1, 0.7), 0.2, 0.2, edgecolor='black', facecolor='none'))\n",
    "    ax.text(0.2, 0.8, 'Input\\n32x32x1', ha='center', va='center')\n",
    "\n",
    "    # Draw Convolutional Layer 1\n",
    "    ax.add_patch(patches.Rectangle((0.1, 0.5), 0.2, 0.15, edgecolor='black', facecolor='none'))\n",
    "    ax.text(0.2, 0.575, 'Conv1\\n5x5x6', ha='center', va='center')\n",
    "\n",
    "    # Draw Pooling Layer 1\n",
    "    ax.add_patch(patches.Rectangle((0.1, 0.35), 0.2, 0.1, edgecolor='black', facecolor='none'))\n",
    "    ax.text(0.2, 0.4, 'Pool1\\n2x2', ha='center', va='center')\n",
    "\n",
    "    # Draw Convolutional Layer 2\n",
    "    ax.add_patch(patches.Rectangle((0.1, 0.2), 0.2, 0.1, edgecolor='black', facecolor='none'))\n",
    "    ax.text(0.2, 0.25, 'Conv2\\n5x5x16', ha='center', va='center')\n",
    "\n",
    "    # Draw Pooling Layer 2\n",
    "    ax.add_patch(patches.Rectangle((0.1, 0.1), 0.2, 0.05, edgecolor='black', facecolor='none'))\n",
    "    ax.text(0.2, 0.125, 'Pool2\\n2x2', ha='center', va='center')\n",
    "\n",
    "    # Draw Fully Connected Layers\n",
    "    ax.add_patch(patches.Rectangle((0.1, 0.03), 0.2, 0.02, edgecolor='black', facecolor='none'))\n",
    "    ax.text(0.2, 0.05, 'FC1\\n120', ha='center', va='center')\n",
    "    ax.add_patch(patches.Rectangle((0.1, 0.01), 0.2, 0.02, edgecolor='black', facecolor='none'))\n",
    "    ax.text(0.2, 0.015, 'FC2\\n84', ha='center', va='center')\n",
    "    ax.add_patch(patches.Rectangle((0.1, -0.01), 0.2, 0.02, edgecolor='black', facecolor='none'))\n",
    "    ax.text(0.2, -0.005, 'Output\\n10', ha='center', va='center')\n",
    "\n",
    "    # Set limits and hide axes\n",
    "    ax.set_xlim(0, 0.4)\n",
    "    ax.set_ylim(-0.1, 1)\n",
    "    ax.axis('off')\n",
    "\n",
    "fig, ax = plt.subplots()\n",
    "draw_lenet(ax)\n",
    "plt.show()"
   ]
  },
  {
   "cell_type": "code",
   "execution_count": null,
   "metadata": {},
   "outputs": [],
   "source": []
  }
 ],
 "metadata": {
  "kernelspec": {
   "display_name": "kaust_puf",
   "language": "python",
   "name": "python3"
  },
  "language_info": {
   "codemirror_mode": {
    "name": "ipython",
    "version": 3
   },
   "file_extension": ".py",
   "mimetype": "text/x-python",
   "name": "python",
   "nbconvert_exporter": "python",
   "pygments_lexer": "ipython3",
   "version": "3.11.7"
  }
 },
 "nbformat": 4,
 "nbformat_minor": 2
}
